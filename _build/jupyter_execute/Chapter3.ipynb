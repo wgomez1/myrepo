{
 "cells": [
  {
   "cell_type": "markdown",
   "id": "75e868fb",
   "metadata": {},
   "source": [
    "# References\n",
    "\n",
    "1. https://jhustata.github.io/book/jjj.html\n",
    "2. https://jupyterbook.org/en/stable/start/your-first-book.html\n",
    "3. https://www.stata.com/stata-news/news36-1/spotlight-markdown/\n",
    "4. https://wwwn.cdc.gov/nchs/data/nhanes3/1a/adult.sas\n",
    "5. https://jhustata.github.io/class700/intro.html\n",
    "6. https://www.jhsph.edu/courses/course/37447/2022/340.700.71/advanced-stata-programming\n",
    "7. [Muzaale AD. Databases for surgical health services research: National Health and Nutrition Examination Survey. Surgery. 2019 May;165(5):873-875](https://www.surgjournal.com/article/S0039-6060(18)30076-X/fulltext)\n",
    "8. https://www.ssc.wisc.edu/~hemken/Stataworkshops/dyndoc%20review/Review.html"
   ]
  }
 ],
 "metadata": {
  "jupytext": {
   "formats": "md:myst",
   "text_representation": {
    "extension": ".md",
    "format_name": "myst",
    "format_version": 0.13,
    "jupytext_version": "1.11.5"
   }
  },
  "kernelspec": {
   "display_name": "Python 3",
   "language": "python",
   "name": "python3"
  },
  "language_info": {
   "codemirror_mode": {
    "name": "ipython",
    "version": 3
   },
   "file_extension": ".py",
   "mimetype": "text/x-python",
   "name": "python",
   "nbconvert_exporter": "python",
   "pygments_lexer": "ipython3",
   "version": "3.11.3"
  },
  "source_map": [
   13
  ]
 },
 "nbformat": 4,
 "nbformat_minor": 5
}